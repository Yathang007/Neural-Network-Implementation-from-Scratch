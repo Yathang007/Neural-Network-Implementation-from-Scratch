{
  "nbformat": 4,
  "nbformat_minor": 0,
  "metadata": {
    "colab": {
      "provenance": [],
      "include_colab_link": true
    },
    "kernelspec": {
      "name": "python3",
      "display_name": "Python 3"
    },
    "language_info": {
      "name": "python"
    }
  },
  "cells": [
    {
      "cell_type": "markdown",
      "metadata": {
        "id": "view-in-github",
        "colab_type": "text"
      },
      "source": [
        "<a href=\"https://colab.research.google.com/github/Yathang007/Neural-Network-Implementation-from-Scratch/blob/main/MDM_DL_Asg1_PartA.ipynb\" target=\"_parent\"><img src=\"https://colab.research.google.com/assets/colab-badge.svg\" alt=\"Open In Colab\"/></a>"
      ]
    },
    {
      "cell_type": "markdown",
      "source": [
        "## Logistic Regression using Sklearn"
      ],
      "metadata": {
        "id": "PwISLh7zynwF"
      }
    },
    {
      "cell_type": "code",
      "source": [
        "import numpy as np\n",
        "import matplotlib.pyplot as plt\n",
        "from sklearn import datasets\n",
        "from sklearn.model_selection import train_test_split\n",
        "from sklearn.preprocessing import StandardScaler\n",
        "from sklearn.linear_model import LogisticRegression\n",
        "from sklearn.metrics import accuracy_score, confusion_matrix, classification_report\n",
        "\n",
        "# Load the Wine dataset\n",
        "digits = datasets.load_digits()\n",
        "X = digits.data  # Features\n",
        "y = (digits.target == 0).astype(int)  # Binary classification (Class 1 vs. Not Class 1)\n",
        "\n",
        "# Train-test split\n",
        "X_train, X_test, y_train, y_test = train_test_split(X, y, test_size=0.2, random_state=42)\n",
        "\n",
        "# Feature Scaling\n",
        "scaler = StandardScaler()\n",
        "X_train = scaler.fit_transform(X_train)\n",
        "X_test = scaler.transform(X_test)\n",
        "\n",
        "# Training and prediction\n",
        "sklearn_model = LogisticRegression()\n",
        "sklearn_model.fit(X_train, y_train)\n",
        "y_pred_sklearn = sklearn_model.predict(X_test)\n",
        "\n",
        "# Evaluation\n",
        "accuracy_sklearn = accuracy_score(y_test, y_pred_sklearn)\n",
        "conf_matrix_sklearn = confusion_matrix(y_test, y_pred_sklearn)\n",
        "report_sklearn = classification_report(y_test, y_pred_sklearn)\n",
        "\n",
        "print(\"Sklearn Model Results on digits Dataset:\")\n",
        "print(f\"Accuracy: {accuracy_sklearn:.2f}\")\n",
        "print(\"Confusion Matrix:\")\n",
        "print(conf_matrix_sklearn)\n",
        "print(\"Classification Report:\")\n",
        "print(report_sklearn)\n"
      ],
      "metadata": {
        "colab": {
          "base_uri": "https://localhost:8080/"
        },
        "id": "mNSP-FwbyniN",
        "outputId": "0ed57474-da0d-4f1d-9325-b9c68b078b14"
      },
      "execution_count": null,
      "outputs": [
        {
          "output_type": "stream",
          "name": "stdout",
          "text": [
            "Sklearn Model Results on digits Dataset:\n",
            "Accuracy: 1.00\n",
            "Confusion Matrix:\n",
            "[[327   0]\n",
            " [  1  32]]\n",
            "Classification Report:\n",
            "              precision    recall  f1-score   support\n",
            "\n",
            "           0       1.00      1.00      1.00       327\n",
            "           1       1.00      0.97      0.98        33\n",
            "\n",
            "    accuracy                           1.00       360\n",
            "   macro avg       1.00      0.98      0.99       360\n",
            "weighted avg       1.00      1.00      1.00       360\n",
            "\n"
          ]
        }
      ]
    },
    {
      "cell_type": "markdown",
      "source": [
        "## Logistic Regression using Keras"
      ],
      "metadata": {
        "id": "l1Ny3mefy86-"
      }
    },
    {
      "cell_type": "code",
      "execution_count": null,
      "metadata": {
        "colab": {
          "base_uri": "https://localhost:8080/"
        },
        "id": "fk9zRiFayOii",
        "outputId": "627398fc-6a0a-4b9c-ef1f-249373e94b2a"
      },
      "outputs": [
        {
          "output_type": "stream",
          "name": "stderr",
          "text": [
            "/usr/local/lib/python3.11/dist-packages/keras/src/layers/core/dense.py:87: UserWarning: Do not pass an `input_shape`/`input_dim` argument to a layer. When using Sequential models, prefer using an `Input(shape)` object as the first layer in the model instead.\n",
            "  super().__init__(activity_regularizer=activity_regularizer, **kwargs)\n"
          ]
        },
        {
          "output_type": "stream",
          "name": "stdout",
          "text": [
            "\u001b[1m12/12\u001b[0m \u001b[32m━━━━━━━━━━━━━━━━━━━━\u001b[0m\u001b[37m\u001b[0m \u001b[1m0s\u001b[0m 4ms/step \n",
            "Keras Model Results on Digits Dataset:\n",
            "Accuracy: 1.00\n",
            "Confusion Matrix:\n",
            "[[327   0]\n",
            " [  1  32]]\n",
            "Classification Report:\n",
            "              precision    recall  f1-score   support\n",
            "\n",
            "           0       1.00      1.00      1.00       327\n",
            "           1       1.00      0.97      0.98        33\n",
            "\n",
            "    accuracy                           1.00       360\n",
            "   macro avg       1.00      0.98      0.99       360\n",
            "weighted avg       1.00      1.00      1.00       360\n",
            "\n"
          ]
        }
      ],
      "source": [
        "import numpy as np\n",
        "import matplotlib.pyplot as plt\n",
        "from sklearn import datasets\n",
        "from sklearn.model_selection import train_test_split\n",
        "from sklearn.preprocessing import StandardScaler\n",
        "from sklearn.metrics import accuracy_score, confusion_matrix, classification_report\n",
        "from tensorflow import keras\n",
        "from tensorflow.keras.models import Sequential\n",
        "from tensorflow.keras.layers import Dense\n",
        "\n",
        "# Load the Wine dataset\n",
        "digits = datasets.load_digits()\n",
        "X = digits.data  # Features\n",
        "y = (digits.target == 0).astype(int)  # Binary classification (Class 1 vs. Not Class 1)\n",
        "\n",
        "# Train-test split\n",
        "X_train, X_test, y_train, y_test = train_test_split(X, y, test_size=0.2, random_state=42)\n",
        "\n",
        "# Feature Scaling\n",
        "scaler = StandardScaler()\n",
        "X_train = scaler.fit_transform(X_train)\n",
        "X_test = scaler.transform(X_test)\n",
        "\n",
        "# Build Keras Model\n",
        "keras_model = Sequential([\n",
        "    Dense(1, activation='sigmoid', input_shape=(X_train.shape[1],))\n",
        "])\n",
        "keras_model.compile(optimizer='adam', loss='binary_crossentropy', metrics=['accuracy'])\n",
        "\n",
        "# Train the model\n",
        "keras_model.fit(X_train, y_train, epochs=100, batch_size=10, verbose=0)\n",
        "y_pred_keras = (keras_model.predict(X_test) > 0.5).astype(int)\n",
        "\n",
        "# Evaluation\n",
        "accuracy_keras = accuracy_score(y_test, y_pred_keras)\n",
        "conf_matrix_keras = confusion_matrix(y_test, y_pred_keras)\n",
        "report_keras = classification_report(y_test, y_pred_keras)\n",
        "\n",
        "print(\"Keras Model Results on Digits Dataset:\")\n",
        "print(f\"Accuracy: {accuracy_keras:.2f}\")\n",
        "print(\"Confusion Matrix:\")\n",
        "print(conf_matrix_keras)\n",
        "print(\"Classification Report:\")\n",
        "print(report_keras)\n"
      ]
    },
    {
      "cell_type": "markdown",
      "source": [
        "## Logistic Regression from Scratch"
      ],
      "metadata": {
        "id": "RhYF2gH_zYql"
      }
    },
    {
      "cell_type": "code",
      "source": [
        "import numpy as np\n",
        "from sklearn import datasets\n",
        "from sklearn.model_selection import train_test_split\n",
        "from sklearn.preprocessing import StandardScaler\n",
        "from sklearn.metrics import accuracy_score, confusion_matrix, classification_report\n",
        "\n",
        "# Sigmoid function\n",
        "def sigmoid(z):\n",
        "    return 1 / (1 + np.exp(-z))\n",
        "\n",
        "# Cost function\n",
        "def compute_cost(X, y, weights):\n",
        "    m = len(y)\n",
        "    h = sigmoid(np.dot(X, weights))\n",
        "    cost = -(1/m) * np.sum(y * np.log(h) + (1 - y) * np.log(1 - h))\n",
        "    return cost\n",
        "\n",
        "# Gradient descent\n",
        "def gradient_descent(X, y, weights, learning_rate, epochs):\n",
        "    m = len(y)\n",
        "    for _ in range(epochs):\n",
        "        h = sigmoid(np.dot(X, weights))\n",
        "        gradient = np.dot(X.T, (h - y)) / m\n",
        "        weights -= learning_rate * gradient\n",
        "    return weights\n",
        "\n",
        "# Predict function\n",
        "def predict(X, weights):\n",
        "    return (sigmoid(np.dot(X, weights)) >= 0.5).astype(int)\n",
        "\n",
        "# Load the Wine dataset\n",
        "digits = datasets.load_digits()\n",
        "X = digits.data  # Features\n",
        "y = (digits.target == 0).astype(int).reshape(-1, 1)  # Binary classification (Class 1 vs. Others)\n",
        "\n",
        "# Train-test split\n",
        "X_train, X_test, y_train, y_test = train_test_split(X, y, test_size=0.2, random_state=42)\n",
        "\n",
        "# Feature Scaling\n",
        "scaler = StandardScaler()\n",
        "X_train = scaler.fit_transform(X_train)\n",
        "X_test = scaler.transform(X_test)\n",
        "\n",
        "# Add intercept term (bias)\n",
        "X_train = np.hstack((np.ones((X_train.shape[0], 1)), X_train))\n",
        "X_test = np.hstack((np.ones((X_test.shape[0], 1)), X_test))\n",
        "\n",
        "# Initialize weights\n",
        "weights = np.zeros((X_train.shape[1], 1))\n",
        "\n",
        "# Train the model\n",
        "weights = gradient_descent(X_train, y_train, weights, learning_rate=0.1, epochs=1000)\n",
        "\n",
        "# Prediction\n",
        "y_pred = predict(X_test, weights)\n",
        "\n",
        "# Evaluation\n",
        "accuracy = accuracy_score(y_test, y_pred)\n",
        "conf_matrix = confusion_matrix(y_test, y_pred)\n",
        "report = classification_report(y_test, y_pred)\n",
        "\n",
        "print(\"Logistic Regression (Scratch) Model Results on digits Dataset:\")\n",
        "print(f\"Accuracy: {accuracy:.2f}\")\n",
        "print(\"Confusion Matrix:\")\n",
        "print(conf_matrix)\n",
        "print(\"Classification Report:\")\n",
        "print(report)\n",
        "\n"
      ],
      "metadata": {
        "colab": {
          "base_uri": "https://localhost:8080/"
        },
        "id": "Fq6MvZZizbMu",
        "outputId": "71cae428-bc7a-41af-bc3b-6b2ff442fa41"
      },
      "execution_count": null,
      "outputs": [
        {
          "output_type": "stream",
          "name": "stdout",
          "text": [
            "Logistic Regression (Scratch) Model Results on digits Dataset:\n",
            "Accuracy: 1.00\n",
            "Confusion Matrix:\n",
            "[[327   0]\n",
            " [  1  32]]\n",
            "Classification Report:\n",
            "              precision    recall  f1-score   support\n",
            "\n",
            "           0       1.00      1.00      1.00       327\n",
            "           1       1.00      0.97      0.98        33\n",
            "\n",
            "    accuracy                           1.00       360\n",
            "   macro avg       1.00      0.98      0.99       360\n",
            "weighted avg       1.00      1.00      1.00       360\n",
            "\n"
          ]
        }
      ]
    },
    {
      "cell_type": "markdown",
      "source": [
        "# **Activation Functions**\n",
        "\n",
        "## Sigmoid"
      ],
      "metadata": {
        "id": "BuYQJDBTYLhF"
      }
    },
    {
      "cell_type": "code",
      "source": [
        "import numpy as np\n",
        "import matplotlib.pyplot as plt\n",
        "\n",
        "# Sigmoid function\n",
        "def sigmoid(z):\n",
        "    return 1 / (1 + np.exp(-z))\n",
        "\n",
        "# Generate a range of values for z\n",
        "z = np.linspace(-10, 10, 100)\n",
        "sigmoid_values = sigmoid(z)\n",
        "\n",
        "# Plot the sigmoid function\n",
        "plt.plot(z, sigmoid_values)\n",
        "plt.xlabel(\"z\")\n",
        "plt.ylabel(\"Sigmoid(z)\")\n",
        "plt.title(\"Sigmoid Function\")\n",
        "plt.show()"
      ],
      "metadata": {
        "colab": {
          "base_uri": "https://localhost:8080/",
          "height": 472
        },
        "id": "N3Q44tCjYOtr",
        "outputId": "2ff81e87-ed63-4813-8cc3-62f1b49fc0cc"
      },
      "execution_count": null,
      "outputs": [
        {
          "output_type": "display_data",
          "data": {
            "text/plain": [
              "<Figure size 640x480 with 1 Axes>"
            ],
            "image/png": "[encoded data removed]"
          },
          "metadata": {}
        }
      ]
    },
    {
      "cell_type": "markdown",
      "source": [
        "## Tanh"
      ],
      "metadata": {
        "id": "vGZGLW-YYUTj"
      }
    },
    {
      "cell_type": "code",
      "source": [
        "# TanH function\n",
        "def tanh(z):\n",
        "    num = np.exp(z) - np.exp(-z)\n",
        "    den = np.exp(z) + np.exp(-z)\n",
        "    return num / den\n",
        "\n",
        "\n",
        "# Generate a range of values for z\n",
        "z = np.linspace(-10, 10, 100)\n",
        "tanh_values = tanh(z)\n",
        "\n",
        "# Plot the sigmoid function\n",
        "plt.plot(z, tanh_values)\n",
        "plt.xlabel(\"z\")\n",
        "plt.ylabel(\"Tanh(z)\")\n",
        "plt.title(\"Tanh Function\")\n",
        "plt.show()"
      ],
      "metadata": {
        "colab": {
          "base_uri": "https://localhost:8080/",
          "height": 472
        },
        "id": "1JdMAFGNYU9a",
        "outputId": "683b7756-573d-4560-982d-40c14b12330b"
      },
      "execution_count": null,
      "outputs": [
        {
          "output_type": "display_data",
          "data": {
            "text/plain": [
              "<Figure size 640x480 with 1 Axes>"
            ],
            "image/png": "[encoded data removed]"
          },
          "metadata": {}
        }
      ]
    },
    {
      "cell_type": "markdown",
      "source": [
        "## ReLU"
      ],
      "metadata": {
        "id": "NJNEbIGAYVXl"
      }
    },
    {
      "cell_type": "code",
      "source": [
        "# ReLU function\n",
        "def relu(z):\n",
        "    return np.maximum(0, z)\n",
        "\n",
        "# Generate a range of values for z\n",
        "z = np.linspace(-10, 10, 100)           # -10 to +10 spaced with 100 points linearly\n",
        "relu_values = relu(z)\n",
        "\n",
        "# Plot the sigmoid function\n",
        "plt.plot(z, relu_values)\n",
        "plt.xlabel(\"z\")\n",
        "plt.ylabel(\"ReLU(z)\")\n",
        "plt.title(\"ReLU Function\")\n",
        "plt.show()"
      ],
      "metadata": {
        "colab": {
          "base_uri": "https://localhost:8080/",
          "height": 472
        },
        "id": "0VYNhUQsYWWf",
        "outputId": "356f553a-bf21-4d64-caec-11379165aefe"
      },
      "execution_count": null,
      "outputs": [
        {
          "output_type": "display_data",
          "data": {
            "text/plain": [
              "<Figure size 640x480 with 1 Axes>"
            ],
            "image/png": "[encoded data removed]"
          },
          "metadata": {}
        }
      ]
    },
    {
      "cell_type": "markdown",
      "source": [
        "## Logloss for a vector"
      ],
      "metadata": {
        "id": "VVUP-YF3YeO9"
      }
    },
    {
      "cell_type": "code",
      "source": [
        "import numpy as np\n",
        "\n",
        "def log_loss(y_true, y_pred):\n",
        "    epsilon = 1e-15                                     # To avoid log(0) error\n",
        "    y_pred = np.clip(y_pred, epsilon, 1 - epsilon)\n",
        "    return -np.mean(y_true * np.log(y_pred) + (1 - y_true) * np.log(1 - y_pred))\n",
        "\n",
        "# Example 1: Good predictions (Low log loss)\n",
        "y_true_1 = np.array([1, 0, 1, 1, 0])\n",
        "y_pred_1 = np.array([0.9, 0.1, 0.8, 0.7, 0.2])\n",
        "\n",
        "# Example 2: Bad predictions (High log loss)\n",
        "y_true_2 = np.array([1, 0, 1, 1, 0])\n",
        "y_pred_2 = np.array([0.1, 0.9, 0.2, 0.3, 0.8])  # Opposite of correct labels\n",
        "\n",
        "print(\"Log Loss (Example 1 - Low):\", log_loss(y_true_1, y_pred_1))\n",
        "print(\"Log Loss (Example 2 - High):\", log_loss(y_true_2, y_pred_2))"
      ],
      "metadata": {
        "colab": {
          "base_uri": "https://localhost:8080/"
        },
        "id": "Z5orGwO-Ydo4",
        "outputId": "27842df6-f2ad-4658-c592-b39f8c608561"
      },
      "execution_count": null,
      "outputs": [
        {
          "output_type": "stream",
          "name": "stdout",
          "text": [
            "Log Loss (Example 1 - Low): 0.20273661557656092\n",
            "Log Loss (Example 2 - High): 1.8056037630364457\n"
          ]
        }
      ]
    },
    {
      "cell_type": "code",
      "source": [
        "import numpy as np\n",
        "from sklearn.datasets import load_digits\n",
        "from sklearn.model_selection import train_test_split\n",
        "from sklearn.preprocessing import StandardScaler\n",
        "from sklearn.metrics import accuracy_score\n",
        "\n",
        "# Sigmoid function\n",
        "def sigmoid(z):\n",
        "    return 1 / (1 + np.exp(-z))\n",
        "\n",
        "# Cross-Entropy Loss for Binary Classification\n",
        "def compute_cross_entropy_loss(y_true, y_pred):\n",
        "    epsilon = 1e-15  # To avoid log(0)\n",
        "    y_pred = np.clip(y_pred, epsilon, 1 - epsilon)\n",
        "    return -np.mean(y_true * np.log(y_pred) + (1 - y_true) * np.log(1 - y_pred))\n",
        "\n",
        "# Gradient Descent for Logistic Regression (for binary classification)\n",
        "def gradient_descent(X, y, weights, learning_rate, epochs):\n",
        "    m = X.shape[0]  # Number of training examples\n",
        "    for epoch in range(epochs):\n",
        "        # Compute predictions (sigmoid function for binary classification)\n",
        "        z = np.dot(X, weights)\n",
        "        predictions = sigmoid(z)\n",
        "\n",
        "        # Compute gradients\n",
        "        gradient = np.dot(X.T, (predictions - y)) / m\n",
        "\n",
        "        # Update weights\n",
        "        weights -= learning_rate * gradient\n",
        "\n",
        "        # Compute and print loss every 100 epochs\n",
        "        if epoch % 100 == 0:\n",
        "            loss = compute_cross_entropy_loss(y, predictions)\n",
        "            print(f\"Epoch {epoch}, Cross-Entropy Loss: {loss:.4f}\")\n",
        "\n",
        "    return weights\n",
        "\n",
        "# One-vs-All Training\n",
        "def train_one_vs_all(X, y, num_classes, learning_rate, epochs):\n",
        "    weights_all = []\n",
        "    for class_label in range(num_classes):\n",
        "        # Create binary labels for the current class\n",
        "        y_binary = (y == class_label).astype(int)\n",
        "\n",
        "        # Initialize weights\n",
        "        weights = np.zeros(X.shape[1])\n",
        "\n",
        "        # Train the model\n",
        "        weights = gradient_descent(X, y_binary, weights, learning_rate, epochs)\n",
        "        weights_all.append(weights)\n",
        "\n",
        "    return np.array(weights_all).T  # Shape: (num_features, num_classes)\n",
        "\n",
        "# One-vs-All Prediction\n",
        "def predict_one_vs_all(X, weights_all):\n",
        "    z = np.dot(X, weights_all)  # Shape: (num_samples, num_classes)\n",
        "    probabilities = sigmoid(z)  # Apply sigmoid to get probabilities\n",
        "    return np.argmax(probabilities, axis=1)  # Predict the class with the highest probability\n",
        "\n",
        "# Load the digits dataset\n",
        "digits = load_digits()\n",
        "X = digits.data  # Features (64-dimensional)\n",
        "y = digits.target  # Labels (0-9)\n",
        "\n",
        "# Normalize the features (optional but recommended)\n",
        "scaler = StandardScaler()\n",
        "X = scaler.fit_transform(X)\n",
        "\n",
        "# Add an intercept term (bias) to the features\n",
        "X = np.hstack((np.ones((X.shape[0], 1)), X))\n",
        "\n",
        "# Split the dataset into training (80%) and testing (20%) sets\n",
        "X_train, X_test, y_train, y_test = train_test_split(X, y, test_size=0.2, random_state=42)\n",
        "\n",
        "# Hyperparameters\n",
        "learning_rate = 0.1\n",
        "epochs = 1000\n",
        "num_classes = 10  # Digits 0-9\n",
        "\n",
        "# Train the model using one-vs-all\n",
        "weights_all = train_one_vs_all(X_train, y_train, num_classes, learning_rate, epochs)\n",
        "\n",
        "# Make predictions on the test set\n",
        "y_test_pred = predict_one_vs_all(X_test, weights_all)\n",
        "\n",
        "# Compute test accuracy\n",
        "accuracy = accuracy_score(y_test, y_test_pred)\n",
        "print(f\"\\nTest Accuracy: {accuracy:.4f}\")"
      ],
      "metadata": {
        "colab": {
          "base_uri": "https://localhost:8080/"
        },
        "id": "bRNutbFURmgi",
        "outputId": "ae49de27-251e-48ef-c693-201d7ef9e033"
      },
      "execution_count": null,
      "outputs": [
        {
          "output_type": "stream",
          "name": "stdout",
          "text": [
            "Epoch 0, Cross-Entropy Loss: 0.6931\n",
            "Epoch 100, Cross-Entropy Loss: 0.1308\n",
            "Epoch 200, Cross-Entropy Loss: 0.0781\n",
            "Epoch 300, Cross-Entropy Loss: 0.0580\n",
            "Epoch 400, Cross-Entropy Loss: 0.0471\n",
            "Epoch 500, Cross-Entropy Loss: 0.0403\n",
            "Epoch 600, Cross-Entropy Loss: 0.0355\n",
            "Epoch 700, Cross-Entropy Loss: 0.0319\n",
            "Epoch 800, Cross-Entropy Loss: 0.0291\n",
            "Epoch 900, Cross-Entropy Loss: 0.0269\n",
            "Epoch 0, Cross-Entropy Loss: 0.6931\n",
            "Epoch 100, Cross-Entropy Loss: 0.1826\n",
            "Epoch 200, Cross-Entropy Loss: 0.1278\n",
            "Epoch 300, Cross-Entropy Loss: 0.1054\n",
            "Epoch 400, Cross-Entropy Loss: 0.0926\n",
            "Epoch 500, Cross-Entropy Loss: 0.0842\n",
            "Epoch 600, Cross-Entropy Loss: 0.0780\n",
            "Epoch 700, Cross-Entropy Loss: 0.0733\n",
            "Epoch 800, Cross-Entropy Loss: 0.0696\n",
            "Epoch 900, Cross-Entropy Loss: 0.0665\n",
            "Epoch 0, Cross-Entropy Loss: 0.6931\n",
            "Epoch 100, Cross-Entropy Loss: 0.1461\n",
            "Epoch 200, Cross-Entropy Loss: 0.0902\n",
            "Epoch 300, Cross-Entropy Loss: 0.0682\n",
            "Epoch 400, Cross-Entropy Loss: 0.0560\n",
            "Epoch 500, Cross-Entropy Loss: 0.0481\n",
            "Epoch 600, Cross-Entropy Loss: 0.0425\n",
            "Epoch 700, Cross-Entropy Loss: 0.0383\n",
            "Epoch 800, Cross-Entropy Loss: 0.0350\n",
            "Epoch 900, Cross-Entropy Loss: 0.0323\n",
            "Epoch 0, Cross-Entropy Loss: 0.6931\n",
            "Epoch 100, Cross-Entropy Loss: 0.1749\n",
            "Epoch 200, Cross-Entropy Loss: 0.1193\n",
            "Epoch 300, Cross-Entropy Loss: 0.0969\n",
            "Epoch 400, Cross-Entropy Loss: 0.0843\n",
            "Epoch 500, Cross-Entropy Loss: 0.0760\n",
            "Epoch 600, Cross-Entropy Loss: 0.0701\n",
            "Epoch 700, Cross-Entropy Loss: 0.0655\n",
            "Epoch 800, Cross-Entropy Loss: 0.0619\n",
            "Epoch 900, Cross-Entropy Loss: 0.0589\n",
            "Epoch 0, Cross-Entropy Loss: 0.6931\n",
            "Epoch 100, Cross-Entropy Loss: 0.1360\n",
            "Epoch 200, Cross-Entropy Loss: 0.0848\n",
            "Epoch 300, Cross-Entropy Loss: 0.0652\n",
            "Epoch 400, Cross-Entropy Loss: 0.0545\n",
            "Epoch 500, Cross-Entropy Loss: 0.0476\n",
            "Epoch 600, Cross-Entropy Loss: 0.0426\n",
            "Epoch 700, Cross-Entropy Loss: 0.0389\n",
            "Epoch 800, Cross-Entropy Loss: 0.0359\n",
            "Epoch 900, Cross-Entropy Loss: 0.0335\n",
            "Epoch 0, Cross-Entropy Loss: 0.6931\n",
            "Epoch 100, Cross-Entropy Loss: 0.1415\n",
            "Epoch 200, Cross-Entropy Loss: 0.0878\n",
            "Epoch 300, Cross-Entropy Loss: 0.0670\n",
            "Epoch 400, Cross-Entropy Loss: 0.0557\n",
            "Epoch 500, Cross-Entropy Loss: 0.0484\n",
            "Epoch 600, Cross-Entropy Loss: 0.0433\n",
            "Epoch 700, Cross-Entropy Loss: 0.0395\n",
            "Epoch 800, Cross-Entropy Loss: 0.0365\n",
            "Epoch 900, Cross-Entropy Loss: 0.0341\n",
            "Epoch 0, Cross-Entropy Loss: 0.6931\n",
            "Epoch 100, Cross-Entropy Loss: 0.1371\n",
            "Epoch 200, Cross-Entropy Loss: 0.0843\n",
            "Epoch 300, Cross-Entropy Loss: 0.0638\n",
            "Epoch 400, Cross-Entropy Loss: 0.0526\n",
            "Epoch 500, Cross-Entropy Loss: 0.0454\n",
            "Epoch 600, Cross-Entropy Loss: 0.0404\n",
            "Epoch 700, Cross-Entropy Loss: 0.0366\n",
            "Epoch 800, Cross-Entropy Loss: 0.0337\n",
            "Epoch 900, Cross-Entropy Loss: 0.0313\n",
            "Epoch 0, Cross-Entropy Loss: 0.6931\n",
            "Epoch 100, Cross-Entropy Loss: 0.1380\n",
            "Epoch 200, Cross-Entropy Loss: 0.0855\n",
            "Epoch 300, Cross-Entropy Loss: 0.0655\n",
            "Epoch 400, Cross-Entropy Loss: 0.0546\n",
            "Epoch 500, Cross-Entropy Loss: 0.0477\n",
            "Epoch 600, Cross-Entropy Loss: 0.0428\n",
            "Epoch 700, Cross-Entropy Loss: 0.0392\n",
            "Epoch 800, Cross-Entropy Loss: 0.0364\n",
            "Epoch 900, Cross-Entropy Loss: 0.0341\n",
            "Epoch 0, Cross-Entropy Loss: 0.6931\n",
            "Epoch 100, Cross-Entropy Loss: 0.2063\n",
            "Epoch 200, Cross-Entropy Loss: 0.1539\n",
            "Epoch 300, Cross-Entropy Loss: 0.1331\n",
            "Epoch 400, Cross-Entropy Loss: 0.1216\n",
            "Epoch 500, Cross-Entropy Loss: 0.1141\n",
            "Epoch 600, Cross-Entropy Loss: 0.1088\n",
            "Epoch 700, Cross-Entropy Loss: 0.1047\n",
            "Epoch 800, Cross-Entropy Loss: 0.1015\n",
            "Epoch 900, Cross-Entropy Loss: 0.0989\n",
            "Epoch 0, Cross-Entropy Loss: 0.6931\n",
            "Epoch 100, Cross-Entropy Loss: 0.1876\n",
            "Epoch 200, Cross-Entropy Loss: 0.1327\n",
            "Epoch 300, Cross-Entropy Loss: 0.1100\n",
            "Epoch 400, Cross-Entropy Loss: 0.0968\n",
            "Epoch 500, Cross-Entropy Loss: 0.0880\n",
            "Epoch 600, Cross-Entropy Loss: 0.0814\n",
            "Epoch 700, Cross-Entropy Loss: 0.0763\n",
            "Epoch 800, Cross-Entropy Loss: 0.0722\n",
            "Epoch 900, Cross-Entropy Loss: 0.0688\n",
            "\n",
            "Test Accuracy: 0.9611\n"
          ]
        }
      ]
    },
    {
      "cell_type": "markdown",
      "source": [
        "#LogLoss vs Multi Class Cross Entropy"
      ],
      "metadata": {
        "id": "Gfn8drKqeuai"
      }
    },
    {
      "cell_type": "markdown",
      "source": [
        "### LogLoss\n",
        "- Used for binary classification (2 classes)\n",
        "- Output is Predicted probabilty for the positive class (class 1)\n",
        "- Used for applications having binary outcomes like Spam detector, Binary image classification etc.\n",
        "- Formula: ![image.png](data:image/png;base64,iVBORw0KGgoAAAANSUhEUgAAAiwAAABfCAYAAADLXpyvAAAAAXNSR0IArs4c6QAAAARnQU1BAACxjwv8YQUAAAAJcEhZcwAADsMAAA7DAcdvqGQAAB5mSURBVHhe7Z0HuFTFFcfHFrtPMFhjVGzBxEQloogiNiyoaJRgkBjh++wae0vExK6JgpjYwUSMRrGmIDEmWBIhKiqCqCkWwK5PRQ3Yws39He4871t29225uzv7+P++b799e3ff7r13Zs78z5kzM0tEMU4IIYQQImCWTJ6FEEIIIYJFgkUIIYQQwSPBIoQQQojgkWARQgghRPBIsAghhBAieCRYhBBCCBE8EixCCCGECB4JFiGEEEIEjwSLEEIIIYJHgkUIIYQQwSPBIoQQQojgkWARQgghRPBo80PRaZk7d66bP3++/b3qqqu65ZZbzv7+3//+59599117huWXX961tLTY30IIIcJEERbRKfn888/d9OnT3ejRo90mm2zizjrrLOe1+QcffODuvvtu169fP3fppZe6V155xY4LIYQIF0VYRKcGQTJz5kw3ZcoUd99997n11lvPjre2trqRI0e6ESNGtEVehBBChIsiLKLT8t///teGhI488kj7G8HimTNnjuvevbvEihBCNAkSLKLTwlBPly5dXM+ePd1uu+3mbr31VhsOgueee85tttlm9rcQQojwkWARnZYXX3zRbbjhhm7ppZd2Q4YMcU8//bR77LHHLJfl5ZdfbhseEkIIET4SLKLTMmvWLNejRw/7u3fv3m6bbbZxt9xyi3vzzTdthtDqq69u7wkhhAgfCRbRKSFn5e2333bdunWz1yuuuKIbPny4mzBhgs0QWmuttSzyIoQQojmQYBGdEp+/glDx9O3b16277ro2O0j5K0II0VxIsIi6QQ4JQzL14IUXXnDrr79+8mohDAEdcMABtlAcuS1CCCGaBwkWUTM+++wzi3QwBPOd73zH7bDDDu6hhx5K3q0Ns2fPdoMGDbIk2x/+8Idu/PjxyTsLGThwoNtpp51c165dkyNCCCGaAS0cJ2oGC7YdccQR7hvf+IZbZZVV3DXXXOO+973vuWuvvTb5hBBCCFEairCImvH1r3/d/f3vfzehQlRDCCGEqBQJFiGEEEIEjwSLEEIIIYJHgkUIIYQQwSPBIoQQQojgkWARTcUDDzxgi77lPlZbbTWbiZTl46KLLkp+VQghRKPRtGZRFyZOnOgGDx5c9bTmd99919Z0efLJJ+31Ekss4UaNGuX22msve10OLN/Prs3/+c9/3KRJk9wjjzxia8d4NtlkE3fvvfdqzyEhhAgACRZRF7ISLPDEE0+4/fbbz82dO9des2rt73//e1t2vxrYEPH555935513ngkVuP766+28hRBCNBYNCYmmo2fPnu60005LXi1chv+ss85qFx2phKWWWsrWjrn11ltNsHzlK18xcfXBBx8knxBCCNEoJFhEU3LkkUe6gw8+OHnlbPn/K6+80mUVMNx+++3dfffdZ8NGjz32WHI0P/fff79tA8CDv8VC3nzzTfenP/3JIldZwfDdn//858zKOWtqcc0hEno5ZAEO0B//+Ecbhu7sTJ061f3jH/9IXrWHSPZPfvITs288+8h2I5BgEXVh/vz59vzJJ59UHQmBZZZZxv3oRz9qt4nhZZdd1pbbkgUMMV188cXujjvucJ9//nlydFGeeeYZt+qqq7qdd97ZffWrX02ONhY6EgztG2+8YaKr3syZM8cNHz7cdevWzSJXWbHeeutZ9Gv06NHBdZa1uuYQqUc5UG+pv9Tjepc1NuqMM86w6C27vnd2yNe79NJL3e9+97vkyBd86UtfMgeuT58+bsaMGW22vCHEFaEinnrqqWj11VePVl555byPuDInn2wczXCOnZnXX3896tGjR957zyOL+z9p0qSopaWl7Tt79eoVvfXWW8m71RMLlai1tdWeCzFy5Mig6lLs5Uebb7552z3h/OpJ7IFF++67bzRmzJjkSLZQHrvvvnt0zz33JEcaT6nXPG3atOjmm29OXjU3tSyHY445pq3+7rnnntFHH32UvFN7FixYEI0aNSoaPHhwNG/evOToosRCKvrlL38Zvf/++8mR5iYWZ1Hv3r2jqVOnJkfaQxkcfvjhZtcbRcWCxfPee+9Fu+yyi1Ws2Bu1wg6NZjhHURneuHjjxuO4446LPv300+QTtSc0weKZOHFitMoqq9RdsFxxxRXRXnvtVdNO5v7774969uwZzZo1KznSWApdM/Vwzpw50V133RXtv//+Vj8x+p2FWpbDa6+9Fm211VZ1FyyISgQ/Dm8abA0i7eGHH45OO+00c4ZxyBrZgWfNtddeayIUAZ5LCIKl6iEhQvOEjIBnppmGRjOco6gMypIwfL9+/ZIjzt144402a2hxZ80113TLLbdc8qo+vPLKK+6GG25ww4YNcyuuuGJyNHt69epla+WMGzeuquEChhtYb+fjjz9OjpRPsWv+17/+5Q466CDLh9poo42So52HrMohH3zvGmuskbyqDwz9MjPw29/+tu0yn4ahkJNPPtn9/Oc/d1/+8pfb+pTORCxW3OzZs21WZ4goh0U0PRi2yy+/3DpowHCecMIJ7umnn7bXon6QiPnpp5+67bbbLjlSGyhzhMBvf/tbF3t8ydHy4VxffvnlqpJki11zZ9+xPKtyCAVyViZMmOAOPPBAt/TSSydHF7LCCiu4X/3qV+YMff/733crr7xy8k7ngRw81rTC6WtE7ltHSLCITkH37t3N81lyyYVVmkz2ESNGaEpyHSFKce+997qtttqqLovt4QW3tra6adOmJUfqT72vOURCKIesYPFIhAqrZy+OELHu27evrXX173//OzkaDg0TLHg0ZCQzs4LKwTOv83k6ZIpfeOGFlqWMsn3wwQdt5gbeC171Qw89lHwyWwgBEh7kdznH/fff3yp0bujz1VdftVAhHhaP008/3V7PnDnT3vfXuuuuu1q29Z577mkZ2RdccIG9L7JhwIABFpb3UE+uuOKKzEPVpUDdYdYS3gpTI9PnwN+PPvpoW/1oBL7OfvOb37QHf3MsF86VKY9MIyf8z8wszpsZFLQ92u3bb79tn6XTYsbUt771rUW8U2DK73HHHWdlxAJ9tAuGSgYNGmTfz7FyYJ0cRALn1yg6uuZQIex/2GGHWVkwRTnNvHnz3F/+8he7tlJoRDmUapuh1P6D/+U7cH4Y8mkWKL8hQ4a0tWHuze233262h/aar10XY4MNNrBZbgxnhkZDBAteLw3l6quvthDbs88+a8+85njaK0bpYSgXLFjgxo8f74444gh3+OGH25gxYStCkrNmzUo+nR0U8h577GFz0//whz+YkT7nnHPc0Ucf3W6RMsLJNBYMN5Wdx2677WZjgHyGRvCzn/3M/eY3v7G1QggPcx1MD8NoiOygw6CM0qF5hGG981kod6I7TIfEQB566KHu8ccfT951Vl+HDh1qYqoRIBK4R5tvvrm1Lx78zTHe81B3mbbKVgisLMx9JKeAz/HMlG/yN95//337PILkvffes44gF+4JZTNw4EBrs3wnQwl09rR7cpAQnJxLqZAvQmc5ffr0qnJQqqHYNYcK069POukks6WIRuxp2uYisCmfjtYf8tS7HEq1zVBO/8EQCPV5/fXXdyuttJIdCx1ysFgbhSFwhMt3v/tda1fk4txyyy02bLX33ntbmZcK0/JZpiFts0Kh7oIFI0hkgU3sRo4cafP5gWdec5z3+RxK8fzzz7exQ4TMOuusYxEKjP3kyZPtfVTgIYccYt+RFXzviSeeaBWYhLyuXbtaqAxPFK+ZBcpIMgMaNY19iy22sM/wwPj68WqGJlhIaptttmkb8+QZj3L55Ze314XAmKCa8SDKffD9jTLijQQDRP1paWmx1xiqn/70p2U12GrBY0M8UWfx7shvoB54EOh0dNSJesPeSdQNoho/+MEPLCGdB3/7SAef8Z+lviPAScbDG+Vz1HU8uH333dfa38Ybb2yf55qoc/kSfQkv8zu0Deo1HQMeLx0n3izHl1122bISYLELa621lkUE+M5GUOyaQwS7iv2inHv06OHeeecde/h7zvvYYMQ2kYZSqGc5lGOby+0/PvroI7MT2JBmgXWnSA7mQdkh3piEwBYoiA6i+a+99lpZzhFijTWoQhxOr7tgoYKw9DkenRcrHhJ+6GwZPiH6gJH/5z//aXkJ6YWY6PDpiGoVgkS542myBHzuuDSNHMN98803txUoFeL444+3qAkNn84KQ8xiPB7yK379619b+JyKRQiZ8HgxuGYaIR1cuQ+S/JrFiGYN5YZI8ZBIh/DDQNUDRCyd/4cffmgeIPWA8vbQIVBHqEvlwkq6eIxEJCsBz5JQ/y677GKG3sPfjF3z3j333GPH8Dxpg5yr/yyiA4+ae5obIeR6qXP5FtqiTvbu3ds6BdrJ1772NYs+pc8B+M5Sk/34X86NKCe/3QiKXXOI4JETgaAO0blRV/v3729etX+fqARRhlJn6JRTDkRHiLIdddRRFSV1lmOby+0/sN3cm7XXXjs5Ej7kDe24447urbfeMgeDtAOci1xeeumlkh0BypP7hXirpIxqSV0ECxeN6qNCv/jiixZCzYe/UQgAhA3KmApI5UordxoFn8XTy4r0OVIJEBX54PxoAIy3Y9AJTeIdMlMAj5FGhOdMxjznj8pFvLDCK0sbszIrHuW5555rXklnAI8ky0cW4DUxFOMhylWvZfMZN8agUkcIk1M/fIdAh80xQujpVXqvuuoqq3/FjAqCCw+S7yXCUa4x4fN0UoVAjMCUKVPMW15ttdVs6ibhZd8eMOh8D85G7maTxcbKmXVBqJqIBG1s0003bYuCAW0esUTHT6QF+D4MMMOo1cA9p53mq2uISWa40BbzvU+ovRjFrjkLHn74YbMh+c6t0ANvmwhWPihTnCA+99e//tXKk3uDPQVsGg8cSn4XKP9TTz3Vhh6qheEmBPtdd91VUVJnOba53P6Doc1aRhU4L6KRueVV7IFofOqpp5JvWJRTTjnFhmgRJIgWIk1pRxUHALtBW/PtCocB5yQ3d6kZqItgwQhTEcrx+GkkFBgGg7A6FZ1KRyUnF4TQNOG9rCj3HDkXHpzjbbfdZmP9dFI0GJQu44Y0TMCjwDMgMYqOCyNBB0WHWi+vPx9ZNSDuW5aPLKDzJfnZR7m414RH6wkiKbdDoIPjvhNxIZztQegSlSlW/xhCPOaYYyw6MWxY7dY58QKFmS+IDOoxIov6TjIm5//jH//YOr80hNw7Ao8Xh4UhU7xyDx0RbYFhCH9ddEAkDnK91UCIm7LIV9dwjAif42Dke5/p8sUo5ZqrgY7Fd6SlPsgLQhAXg+/kntD+6eQ8vhz43TS0o3322Sd5VTnYRcqee45orQVp21xO/+GFYa2gHvP7+cqs0AOBv+WWWybfUBif+7XDDjvYs+dvf/ubPSNivQ3CCcGBqHXdrQV1ESyEj1G5GA4Msr9xhcAw+3AklY0IBR0+qh8DyvjrJZdc0uYRZkH6HNOeXyHwBBEfJNkyjkgHgmHHS7zzzjst7Mgz3ijhe7xRhmn4HTxMOic8x2Iql9wHOqjc/JRSHqXksNSyAYUAZUB4d/DgwZYgmmV96QgiFISc6TgoD4/vsInCpTtsDEgpgop8Ej/kVC4IALzOjiDawOcQW4gXhjvJG6D9MTMD75j8lVy43/xPMRGOAeW608Nh/AZtB7vAPfD2Ae/Y57jkA1HF/zJ8wW83glKuOUQI99P2t95667boH/cTe4YNTJcP5cWMIqYv56OccqCTZMgfIdhRDl8+yrHNUE7/Qd/EsUYNL1YKdp7rw+lhho8HUYqt4D6n1wBCKBLtL3T/KU/EHX1WrZyiSqm5YKEx02FToYk+EIXg4cfH05DfQSMi496vColypGP1s4l4TaZ3JZW9ELnnyPg+HV2+MTxCbzQCP1OCCjF27Fj7X6BTIIzNuDDfS+VnFkQ6FI9njRBBzVMxCoESZgggnZtS6mNxzmEB7j0zBoAQeCkddZZ4I87QSdrI+g6bNgDUD2Yykd/EOdcS6gMGG4iS5OJnBXjRQPtEUBMhnDRpktUr8gcY+szndPghBD9rKBc/HIYQSRtWohxMNWXsHUHmO84zzzyzqKBHFBIZIdLjw931pqNrDhUfhSBy4suS/BWGC4i6+OE+IoIMX+dOzU9Tz3IoxzZDOf0H7QOhU+thvqzBSSaqRrl5oQY4TETMiC4T0aW8EYuUJ45nIXzycYgRmKoFC0aWSACkO1/+ppMmsY4kKO+10UmTgIqhZuzY/w/P48ePN7XI+z40h2rHu6OS+S38GU8lrEcDK4Vyz5FOBgVO5SZs6hsqXhRT4XifaXTeQ2ZlxHQCFx40kRTfKVEBSHZMe2EIM66xmRK8mgXKC6HHTACeaxnmLYSPZmBUvRBh7RUSzn3+CsdHjRplnTRtodhYdSWQNwU4B77eIz4wYOPGjbN8Mg/1lbUpeI/PAOdP1JEIlW97PFjTAkGRK7BoP3RahfJk/HAYY+3+t2kTzGCgHSAs6UjwFvkOHBdmeaTbbBruLbkaGOp0tKqedHTNaXz7z2rH8mrgPtNB+2gC9xjRTPn4/BXsK44PwzjY5EJ5MbUqB2+36VyJ7kK5trmc/oPIEhM/iIBjs4uBM8I945G2640AwY9gRNx7IUIfRJkh8Bi+RZSSTM8z95T+qBAEDhDg1Q7F1oS4wCuio52Qcx9xJUr+cyHPPfdctOOOO0axwo+GDx8ebbHFFtHOO+9sx9PEXl8UG7O839m1a9coVozJJxelmnOMDXUUe31RrExtAy7OMW6Q0SGHHBLFjTP51MKN77gOzp3dPY8++ugoFirRKaecEsUN2TaK2nrrraMhQ4ZEsfK39/kcx2JvO/kWkRWUG5shxh5iwV1Hs6bQ5odPPvlktMEGG0T9+/e3Mt90001tM8KhQ4dGsTG23VFvu+22KBYyVmdiQ5n8Z3VQ53rk2SXbn2PsEds9ijvbaMCAAXZusaGOLr/88na708ZG2Y7lfo9/9OrVK5o9e3by6SiKDXd0wAEHtF1fLrRV/o8N1Lhe2hTPw4YNs51vPWPHjrUNAzkei6Pk6KLEnVYUiz/bsbtSuFecT9xBJUfKo6NrLlQW/tGoTTNpJ2zYiH2MHbaob9++0UYbbWTnRJ2EWDjavb399ttt89i5cxfdEA+yKIdcKJPce8UxKNU2Q7n9B3WP+/DSSy8lR9qT77z8w59fvYmFidkVdrimX+F+UOdGjBjR1p5jkRzF4tPuD2VJmRaCe4I9iMVrcmQhtBGukTrdKCoWLFkRKzm7ATznMm3atKh79+5R7JW2296fCjtjxoyoT58+ZvBiVZm8kz38Vmtrq51jPqOGKIkVa7vPYcQ8nHfsxdjfHOd9PsfnOyvsZtrS0tKuMefbMfgXv/hFu8/wiL27qsqTre4xOBjbelFIsAB1g+uhzKnHXCNGMQ3i9uSTT657nfDnxoO/c6FDo1PINVx8lmuhs8s9b3Z73WyzzaJXX301OfIFXGeXLl2iyZMnt7WFQkKB36Rtz5w5MzmyKPxWte2fc8AIVypYoNg1hw7XzT2IPXITXbkdlRdkXGMhsiiHSujINlfSf1DfuAcTJkxIjoSNLx8vsnx5pvugNIjK3r17Fywr7g1ter/99mvnvADf3WjBUpek22Iwvs+Ydr5kKsbNGRNlnjkhdg9hLbKeCXUx1saUyFrBb5FzwjnmS0AibE6iVvpz6dwRzptQI3Cc9/kcn++skKlOSJHxUh+aZciNoYA0xx57rIUwmQlCEimhWHIcSB6rBMLETPMjJ6QRi7J5CF+zUihDGoypcz3UY0LWzIIhv8nDPWF4hZlEhNYLDX/UAuot58YjNwGRc2G1Zu5j7mwOPsswEavfkhdADoOHPJTYrthwXBrqA/le5KaRN+HbQqGkPhbfI4+C4bP093s4P0LcsbGuuL4AeWIMG6TtS7kUuuZQYeiRHKK487F6STnQ9liagZlA6en2DN2RG0JeSNxhtQ3BeLIqh0royDZX0n9QNxlGYXiUYZ/Qwb6wySs5Kv4+8JzugzyUHekLlGXsOOWdlBGLEasHBx98cKZ5olnRcMFSDAwlY6zMrMiF8U0MKsamGadnLQ6Q8MV4MUaAcVbWlMgF40GiM6tPYnwqBcPKODXJzPlmsFQKAoKx7nKEBOfiZ1tgODAUzK4hN4PxdTphD8aGTpOZRGPGjGnLtWo0GHraHzkNrISaC4YeAUK+A6LdQw4Bi4KR5Ehn5qFD5Lv4zo5meiBQSPJk6isz8PidXFgrhvMi/6waqHMk9+Yz8KVS6JpDhQTn1mTNGzpyBPbZZ59teUQsBZDOQ6HTp27y2Ztuuik5+gVZlUMtqKT/4NqZFUdOIomsoYPDgNOXu/5KPshNwS4hLmlf6Rw2D8exT/VeAqJUghYs3DQShzBceAOoXtQ8xp859Hg0/J3OjBZhgHrHk2PRNBoIEGWZn5OghhjAc8v14suBzpPfwHNAsGQZvSJRloXgcj3LYlAfSUAkaoSB4JxIXiTRzye0ejAyCBZmmuEJhuLVYLjZ4gBB0rNnT9sPi7bHg86N9sc6LT6hLw1rXPD/JBjjpbIWBiKSsmdn42233bZogjEClg6SGSt0HMxKSkOdIYrGb6fFXyNJX3Po0NZIqPRbLBDh5J6TxOpnB3lIWEesX3fddZZ8my7rEMshTaX9B53/8OHDbSmEXHsVCohM9g3iPIF1vdjPrlBiNFA/SaZmwUCEdXrqOiBgSLw+77zzgpvO7FkiNsSlW+IGgRrGy0JN4qmzdgDGktBllp2TyA7CrHRUTOnGAyBs7jsslgX34KHxGQxiJV4uDZfoDJ4Ss0xyhzaqgfMmNMq6DayTUghm+pCVT53ECHjPjmslsoBx5JoLnRvGA0+3Gi+/ltAxIdy8yGAdHoaKikXEEJHcNyJKDIOlI0dekBQrKzpJ7iHRmHQbxxYQtaO88YRDav/+mpk2isgLGTonNrOkY2KNjmK2lDaGkE6XV8jlkEsl/Qf/w47kzBpiZlFo15cv8osNoU0WG97kurDDuTMnKWPED5GyXKeKz7NmGL/HIqmII4adGkFTCBbRfCBE2C2UKas0Ku/h8IzX4w0AnT0w9bBcaHzsEYQoYDfsLKcvM0WQKb4IEZb0Lzb9nPfZMwjIAWCaslgo+BA53I9iRrQcmBpNTkWhtWAaTS2uOURCL4cswL74nc2rGa5uBhByOE75FgVlPSY2JsYW4miwEF9Hw7q1QoJF1ASECJXahyxZ0p1hG9atwAgw7s9wAVvCDxs2zDbGKwcvVliIDU8xN5RdKSTBIrKI+vAbuQJLCCFEYwg6h0U0JwgRFsZLby7GkAhhcoaKECyAOCDLHfFSDmhsFoQjPEmeBaFqvqfcB14iSYUsWEhY26+wjGBBrCBS0vsACSGEaByKsIjMSeevpDfII0+FacfsSULyG6uDMrOCMVESwkqF6dIkOS5YsCA5Uhv8eWY51CSEEKIyFGERmcM0wnybSJJ4Sy4I66WQBMc0X5JUyxErjLWSXMv3MDOBZ5I4S4XP+v/t6EE+isSKEEKEgSIsInNy81c8VDVmFhBpGTBggB0jA7/c/BUhhBCLH4qwiEzx66/kzvEHckFYO4B1R1hxkWmG5eavCCGEWDyRYBGZwgqazNdPL++dhvUP/Eq0LNBU7+W8hRBCNCcSLCIzWHyIJFoES6EVIslXGTJkiEVbWHysnPwVIYQQiy8SLKJqGAZiJVgSVVnCnT04WNL9sMMOa7cSo4cpzmyQGPpqoEIIIcJBSbdCCCGECB5FWETTwwJwu+66q+13USksYnfRRRfZmjBCCCHCQ4JFND3s2cKOs+xAWy4MZ40ePdpWt2Wvo08++SR5RwghREhoSEiIGDb+GjRokG1aV8lGjEIIIWqLIiyiaUFrP/LII+7MM8+03ZWFEEJ0XhRhEU3LlClT3IwZM9wKK6xgu0GPHTvWRMyYMWNsUbpisHUAq+yuueaa9loRFiGECBsJFtG03HDDDa5///7u7LPPdhtvvLFFWipFgkUIIcJGQ0KiaWGvIoTG9OnT3cCBA5OjQgghOiOKsIimho0UJ06c6G688UZbNXfZZZe1yAtDRcVgF+bjjz/edevWzV4rwiKEEGEjwSKalnnz5rmDDjrIDR06tG1Pon79+tlzuUiwCCFE2GhISDQtSy65pOvSpYtFU6ZOner69OmTvFMe48aNc4MHD3aTJ092I0eOdIceeqgNMwkhhAgHRVhEU8NeRR9++KFraWmxDRWFEEJ0TiRYhBBCCBE8GhISQgghRPBIsAghhBAieCRYhBBCCBE8EixCCCGECB4JFiGEEEIEjwSLEEIIIYJHgkUIIYQQwSPBIoQQQojgkWARQgghRPBIsAghhBAieCRYhBBCCBE8EixCCCGECB4JFiGEEEIEjwSLEEIIIYJHgkUIIYQQwSPBIoQQQojAce7/LCQdwJFUjXYAAAAASUVORK5CYII=)\n",
        "\n",
        "## Cross-Entropy (Multi-Class)\n",
        "- Used for multi-class classification (more than two classes)\n",
        "- Output is predicted probabilirt for each class (all summing to 1)\n",
        "- Used for applications like Digit Classification, Character Classification and Object Detection\n",
        "- Formula : ![image.png](data:image/png;base64,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)"
      ],
      "metadata": {
        "id": "47STTgwJj8D3"
      }
    }
  ]
}